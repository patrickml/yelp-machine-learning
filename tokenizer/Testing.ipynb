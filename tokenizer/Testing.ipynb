{
 "cells": [
  {
   "cell_type": "code",
   "execution_count": 3,
   "metadata": {
    "collapsed": true
   },
   "outputs": [],
   "source": [
    "import nltk\n",
    "import json\n",
    "import os.path\n",
    "import collections\n",
    "import itertools\n",
    "import numpy as np\n",
    "import sklearn\n",
    "import matplotlib\n",
    "import matplotlib.pyplot as plt\n",
    "from sklearn.model_selection import train_test_split\n",
    "\n",
    "# Streams a json input file for a specific number of lines\n",
    "# and returns the number of lines as json documents\n",
    "def readDocs(fileName, limit = -1):\n",
    "    docs = []\n",
    "    with open(fileName, 'r') as f:\n",
    "        for i, line in enumerate(f):\n",
    "            if limit != -1 and i > limit:\n",
    "                break\n",
    "            docs.append(json.loads(line))\n",
    "    return docs\n",
    "\n",
    "# Reads and tokenizes a certain about of documents\n",
    "def readAndTokenize(fileName, limit):\n",
    "    # Steam the docs until we reach our limit\n",
    "    docs = readDocs(fileName, limit)\n",
    "\n",
    "    # Tokenize each document and store on a new key the tokenized version\n",
    "    # of that document\n",
    "    for doc in docs:\n",
    "        doc[\"tokens\"] = nltk.word_tokenize(doc[\"text\"])\n",
    "\n",
    "    return docs\n",
    "\n",
    "# Sorts the summarized documents\n",
    "def sortSummarized(summary):\n",
    "    return collections.OrderedDict(sorted(summary.items(), key=lambda t: t[1], reverse = True))\n",
    "\n",
    "# Writes json documents into a file\n",
    "def writeJSONTOFile(fileName, docs):\n",
    "    with open(fileName, 'w', buffering=20*(1024**2)) as f:\n",
    "        for doc in docs:\n",
    "            f.write(json.dumps(doc) + '\\n')\n",
    "\n",
    "# Creates a new summary file in html\n",
    "def writeSummaryLimitedToHTML(fileName, summary):\n",
    "    with open(fileName, 'w', buffering=20*(1024**2)) as f:\n",
    "        # move the the start of the file\n",
    "        f.seek(0)\n",
    "        f.write(\"<table>\\n\")\n",
    "        f.write(\"  <thead>\\n\")\n",
    "        f.write(\"   <tr>\\n\")\n",
    "        f.write(\"     <th>Token</td>\\n\")\n",
    "        f.write(\"     <th>Count</td>\\n\")\n",
    "        f.write(\"   </tr>\\n\")\n",
    "        f.write(\"  </thead>\\n\")\n",
    "        f.write(\"  <tbody>\\n\")\n",
    "        for key, value in summary:\n",
    "            f.write(\"   <tr>\\n\")\n",
    "            f.write(\"     <td>\" + str(key) + \"</td>\\n\")\n",
    "            f.write(\"     <td>\" + str(value) + \"</td>\\n\")\n",
    "            f.write(\"   </tr>\\n\")\n",
    "        f.write(\"  </tbody>\\n\")\n",
    "        f.write(\"</table>\\n\")\n",
    "        # remove any extra lines incase there was already a file\n",
    "        f.truncate()\n",
    "\n",
    "# Summarizes a list of documents and their tokens into a count\n",
    "# based on the number of times a token is used\n",
    "def summarizeTokenUsage(docs):\n",
    "    tokens = {}\n",
    "    # itterate over each document\n",
    "    for doc in docs:\n",
    "        # grab the tokens\n",
    "        for token in doc[\"tokens\"]:\n",
    "            t = token.lower()\n",
    "            # if the token exists already we will increment it by one\n",
    "            if t in tokens:\n",
    "                tokens[t] = tokens[t] + 1\n",
    "            # else we will create it in our token dict and set it to 1\n",
    "            else:\n",
    "                tokens[t] = 1\n",
    "\n",
    "    return sortSummarized(tokens)\n",
    "\n",
    "# Returns if the rating is good or bad\n",
    "def goodOrBad(rating):\n",
    "    return 0 if rating < 3 else 1\n",
    "\n",
    "# Adds tokenMapping to the documents\n",
    "def mapTokensInReview(tokenMap, docs, tokenLimit):\n",
    "    # get the keys of the tokens this will be a list of words\n",
    "    keys = list(tokenMap.keys())[:tokenLimit]\n",
    "    mappedTokens = []\n",
    "    ratings = []\n",
    "    # itterate over each document\n",
    "    for doc in docs:\n",
    "        # create a new list on the\n",
    "        doc[\"tokenMapping\"] = []\n",
    "        # create a new set of uniq tokens\n",
    "        uniq = set(doc[\"tokens\"])\n",
    "        \n",
    "        for token in keys:\n",
    "            doc[\"tokenMapping\"].append(1 if token in uniq else 0)\n",
    "        \n",
    "        mappedTokens.append(doc[\"tokenMapping\"])\n",
    "        ratings.append(doc[\"stars\"])\n",
    "        \n",
    "    return mappedTokens, ratings"
   ]
  },
  {
   "cell_type": "code",
   "execution_count": 4,
   "metadata": {},
   "outputs": [
    {
     "name": "stdout",
     "output_type": "stream",
     "text": [
      "[nltk_data] Downloading package punkt to /home/jovyan/nltk_data...\n",
      "[nltk_data]   Package punkt is already up-to-date!\n",
      "Reading Existing Tokenized File\n",
      "Finished Reading Tokenized File\n"
     ]
    }
   ],
   "source": [
    "\n",
    "\n",
    "#         # for each uniq token\n",
    "#         for token in uniq:\n",
    "#             try:\n",
    "#                 # get the tokens index\n",
    "#                 index = keys.index(token)\n",
    "#                 mapped = [index, goodOrBad(doc[\"stars\"]), doc[\"stars\"], doc[\"tokens\"].count(token)]\n",
    "#                 # append to the mapping of the tokens the scores and information\n",
    "#                 # about each token that was used in the review\n",
    "#                 doc[\"tokenMapping\"].append(mapped)\n",
    "#                 # also append the mapped tokens to a universal list from all docs\n",
    "#                 mappedTokens.append(mapped)\n",
    "#             except ValueError:\n",
    "#                 # move on the token isn't in the list\n",
    "#                 continue\n",
    "\n",
    "INDEX = 0\n",
    "GOOD_BAD = 1\n",
    "STARS = 2\n",
    "COUNT = 3\n",
    "\n",
    "nltk.download('punkt')\n",
    "sourceFile = '/yelp-data/yelp-reviews.json'\n",
    "tokenizedFile = '/yelp-data/yelp-reviews-tokenized.json'\n",
    "tokenSummaryFile = '/yelp-data/yelp-reviews-token-summary.json'\n",
    "tokenMapped = '/yelp-data/yelp-reviews-token-mapped.json'\n",
    "limitedSummaryFile = '/yelp-data/results.html'\n",
    "summaryExist = os.path.exists(tokenSummaryFile)\n",
    "tokenizedExists = os.path.exists(tokenizedFile)\n",
    "tokenizedMappedExists = os.path.exists(tokenMapped)\n",
    "\n",
    "documentLimit = 50000\n",
    "\n",
    "docs = []\n",
    "summary = collections.OrderedDict()\n",
    "mappedTokens = []\n",
    "\n",
    "if tokenizedMappedExists:\n",
    "    mappedTokens = readDocs(tokenMapped)\n",
    "    summary = sortSummarized(readDocs(tokenSummaryFile, 1)[0])\n",
    "    docs = readDocs(tokenizedFile, documentLimit)\n",
    "else:\n",
    "    # check if we have previously summarized our records\n",
    "    if summaryExist:\n",
    "        print(\"Reading Summarized Tokenized File\")\n",
    "        summary = sortSummarized(readDocs(tokenSummaryFile, 1)[0])\n",
    "        docs = readDocs(tokenizedFile, documentLimit)\n",
    "    else:\n",
    "        # check if we should read the raw data source\n",
    "        if tokenizedExists == False:\n",
    "            print(\"Reading Raw Data File\")\n",
    "            docs = readAndTokenize(sourceFile, documentLimit)\n",
    "        # if not we should read from the already tokenized source file\n",
    "        else:\n",
    "            print(\"Reading Existing Tokenized File\")\n",
    "            docs = readDocs(tokenizedFile, documentLimit)\n",
    "            print(\"Finished Reading Tokenized File\")\n",
    "\n",
    "    # create a new summary of our tokens\n",
    "    summary = summarizeTokenUsage(docs)"
   ]
  },
  {
   "cell_type": "code",
   "execution_count": 5,
   "metadata": {},
   "outputs": [
    {
     "name": "stdout",
     "output_type": "stream",
     "text": [
      "X Size: 40001\n",
      "Y Size: 40001\n",
      "X1 Size: 10000\n",
      "Y1 Size: 10000\n"
     ]
    }
   ],
   "source": [
    "tokensMatrix, ratings = mapTokensInReview(summary, docs, 2500)\n",
    "x, x1, y, y1 = train_test_split(tokensMatrix, ratings, test_size=10000, random_state=42)\n",
    "print('X Size: %d' % len(x))\n",
    "print('Y Size: %d' % len(y))\n",
    "print('X1 Size: %d' % len(x1))\n",
    "print('Y1 Size: %d' % len(y1))"
   ]
  },
  {
   "cell_type": "code",
   "execution_count": 6,
   "metadata": {},
   "outputs": [
    {
     "name": "stdout",
     "output_type": "stream",
     "text": [
      "('Coefficients: \\n', array([-0.14630846, -0.10119522,  0.01410366, ...,  0.02680318,\n",
      "       -0.01673418, -0.16783905]))\n",
      "Mean squared error: 1.03\n",
      "Variance score: 0.50\n"
     ]
    }
   ],
   "source": [
    "# Create linear regression object\n",
    "regr = sklearn.linear_model.LinearRegression()\n",
    "\n",
    "# Train the model using the training sets\n",
    "regr.fit(x, y)\n",
    "\n",
    " # The coefficients\n",
    "print('Coefficients: \\n', regr.coef_)\n",
    "# The mean squared error\n",
    "print(\"Mean squared error: %.2f\" % np.mean((regr.predict(x1) - y1) ** 2))\n",
    "# Explained variance score: 1 is perfect prediction\n",
    "print('Variance score: %.2f' % regr.score(x1, y1))"
   ]
  },
  {
   "cell_type": "code",
   "execution_count": 7,
   "metadata": {},
   "outputs": [
    {
     "data": {
      "text/plain": [
       "<matplotlib.legend.Legend at 0x7f32652ce1d0>"
      ]
     },
     "execution_count": 7,
     "metadata": {},
     "output_type": "execute_result"
    },
    {
     "data": {
      "image/png": "[encoded data removed]",
      "text/plain": [
       "<matplotlib.figure.Figure at 0x7f325846f0d0>"
      ]
     },
     "metadata": {},
     "output_type": "display_data"
    }
   ],
   "source": [
    "# Plot outputs\n",
    "count = 15\n",
    "plt.plot(y1[:count], color='red', label=\"real\")\n",
    "plt.plot( regr.predict(x1[:count]), color='blue', label=\"predicted\")\n",
    "plt.legend(bbox_to_anchor=(0., 1.02, 1., .102), loc=3, ncol=2, mode=\"expand\", borderaxespad=0.)\n"
   ]
  },
  {
   "cell_type": "code",
   "execution_count": null,
   "metadata": {
    "collapsed": true
   },
   "outputs": [],
   "source": [
    "print(\"Writing Results:\")\n",
    "#     print(\"- Writing Limited Summarized To HTML:\")\n",
    "#     writeSummaryLimitedToHTML(limitedSummaryFile, limitedSummary)\n",
    "\n",
    "if tokenizedMappedExists == False:\n",
    "    print(\"- Writing Mapped Tokens:\")\n",
    "    writeJSONTOFile(tokenMapped, mappedTokens)\n",
    "if tokenizedExists == False:\n",
    "    print(\"- Writing Tokenized Documents:\")\n",
    "    writeJSONTOFile(tokenizedFile, docs)\n",
    "if summaryExist == False:\n",
    "    print(\"- Writing Summarized:\")\n",
    "    writeJSONTOFile(tokenSummaryFile, [summary])"
   ]
  },
  {
   "cell_type": "code",
   "execution_count": null,
   "metadata": {
    "collapsed": true
   },
   "outputs": [],
   "source": []
  }
 ],
 "metadata": {
  "kernelspec": {
   "display_name": "Python 2",
   "language": "python",
   "name": "python2"
  },
  "language_info": {
   "codemirror_mode": {
    "name": "ipython",
    "version": 2
   },
   "file_extension": ".py",
   "mimetype": "text/x-python",
   "name": "python",
   "nbconvert_exporter": "python",
   "pygments_lexer": "ipython2",
   "version": "2.7.13"
  }
 },
 "nbformat": 4,
 "nbformat_minor": 2
}
